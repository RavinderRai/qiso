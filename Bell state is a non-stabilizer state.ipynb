{
 "cells": [
  {
   "cell_type": "code",
   "execution_count": 1,
   "metadata": {},
   "outputs": [],
   "source": [
    "import numpy as np\n",
    "import math as m"
   ]
  },
  {
   "cell_type": "code",
   "execution_count": 69,
   "metadata": {},
   "outputs": [
    {
     "name": "stdout",
     "output_type": "stream",
     "text": [
      "[[-1]\n",
      " [ 0]\n",
      " [ 1]\n",
      " [ 0]]\n"
     ]
    }
   ],
   "source": [
    "i = complex(0, 1)\n",
    "beta =  np.array([[-1], [0], [1], [0]])\n",
    "#beta = np.array([[0], [0], [1], [0]])\n",
    "print(beta)"
   ]
  },
  {
   "cell_type": "code",
   "execution_count": 70,
   "metadata": {},
   "outputs": [
    {
     "name": "stdout",
     "output_type": "stream",
     "text": [
      "[[ 0.+0.j  1.-0.j]\n",
      " [-1.+0.j  0.+0.j]]\n"
     ]
    }
   ],
   "source": [
    "I = np.array([[1, 0], [0, 1]])\n",
    "X = np.array([[0, 1], [1, 0]])\n",
    "Y = np.array([[0, -i], [i, 0]])\n",
    "Z = np.array([[1, 0], [0, -1]])\n",
    "mI = -I\n",
    "mX = -X\n",
    "mY = -Y\n",
    "mZ = -Z\n",
    "iI = i*I\n",
    "iX = i*X\n",
    "iY = i*Y\n",
    "iZ = i*Z\n",
    "miI = -i*I\n",
    "miX = -i*X\n",
    "miY = -i*Y\n",
    "miZ = -i*Z\n",
    "\n",
    "print(iY)"
   ]
  },
  {
   "cell_type": "code",
   "execution_count": 71,
   "metadata": {},
   "outputs": [
    {
     "data": {
      "text/plain": [
       "True"
      ]
     },
     "execution_count": 71,
     "metadata": {},
     "output_type": "execute_result"
    }
   ],
   "source": [
    "Pauli = [I, X, Y, Z, miI, miX, miY, miZ]\n",
    "ls = [1, 2, 3]\n",
    "2 in ls"
   ]
  },
  {
   "cell_type": "code",
   "execution_count": 72,
   "metadata": {},
   "outputs": [],
   "source": [
    "lst = []\n",
    "l = np.arange(0, len(Pauli), 1)\n",
    "#print(l)"
   ]
  },
  {
   "cell_type": "code",
   "execution_count": 73,
   "metadata": {},
   "outputs": [
    {
     "name": "stdout",
     "output_type": "stream",
     "text": [
      "[[1 0 0 0]\n",
      " [0 1 0 0]\n",
      " [0 0 1 0]\n",
      " [0 0 0 1]]\n",
      "[[ 1  0  0  0]\n",
      " [ 0 -1  0  0]\n",
      " [ 0  0  1  0]\n",
      " [ 0  0  0 -1]]\n",
      "[[ 0.-0.j  0.-0.j -1.-0.j  0.-0.j]\n",
      " [ 0.-0.j  0.-0.j  0.-0.j -1.-0.j]\n",
      " [-1.-0.j  0.-0.j  0.-0.j  0.-0.j]\n",
      " [ 0.-0.j -1.-0.j  0.-0.j  0.-0.j]]\n",
      "[[ 0.-0.j  0.-0.j -1.-0.j  0.-0.j]\n",
      " [ 0.-0.j  0.+0.j  0.-0.j  1.+0.j]\n",
      " [-1.-0.j  0.-0.j  0.-0.j  0.-0.j]\n",
      " [ 0.-0.j  1.+0.j  0.-0.j  0.+0.j]]\n"
     ]
    }
   ],
   "source": [
    "lst = []\n",
    "for k in np.arange(0, len(Pauli), 1):\n",
    "    for r in np.arange(0, len(Pauli), 1):\n",
    "        P = np.kron(Pauli[k], Pauli[r])\n",
    "        Pbeta = P.dot(beta)\n",
    "        if  np.array_equal(Pbeta, beta) == True:\n",
    "            lst.append([Pauli[k], Pauli[r]])\n",
    "            print(P)\n"
   ]
  },
  {
   "cell_type": "code",
   "execution_count": 74,
   "metadata": {},
   "outputs": [
    {
     "name": "stdout",
     "output_type": "stream",
     "text": [
      "number of stabilizers = 4\n"
     ]
    }
   ],
   "source": [
    "#print(lst)\n",
    "print('number of stabilizers =', len(lst))"
   ]
  },
  {
   "cell_type": "markdown",
   "metadata": {},
   "source": [
    "Making a function from above code to calculate the stabilizer of any state vector"
   ]
  },
  {
   "cell_type": "code",
   "execution_count": 161,
   "metadata": {},
   "outputs": [],
   "source": [
    "#import numpy as np\n",
    "#import math as m\n",
    "\n",
    "i = complex(0, 1)\n",
    "\n",
    "I = np.array([[1, 0], [0, 1]])\n",
    "X = np.array([[0, 1], [1, 0]])\n",
    "Y = np.array([[0, -i], [i, 0]])\n",
    "Z = np.array([[1, 0], [0, -1]])\n",
    "mI = -I\n",
    "mX = -X\n",
    "mY = -Y\n",
    "mZ = -Z\n",
    "iI = i*I\n",
    "iX = i*X\n",
    "iY = i*Y\n",
    "iZ = i*Z\n",
    "miI = -i*I\n",
    "miX = -i*X\n",
    "miY = -i*Y\n",
    "miZ = -i*Z\n",
    "\n",
    "\n",
    "#Pauli = [I, X, Y, Z, mI, mX, mY, mZ, iI, iX, iY, iZ, miI, miX, miY, miZ]\n",
    "Pauli = [I, X, Y, Z, iI, iX, iY, iZ]\n",
    "\n",
    "def Stab(beta):\n",
    "    lst = []\n",
    "    for k in np.arange(0, len(Pauli), 1):\n",
    "        for r in np.arange(0, len(Pauli), 1):\n",
    "            P = np.kron(Pauli[k], Pauli[r])\n",
    "            Pbeta = P.dot(beta)\n",
    "            if  np.array_equal(Pbeta, beta) == True:\n",
    "                lst.append([Pauli[k], Pauli[r]])\n",
    "                print(P)\n",
    "    nos = len(lst)\n",
    "    #print('number of stabilizers =', len(lst))\n",
    "    return nos \n",
    "    "
   ]
  },
  {
   "cell_type": "code",
   "execution_count": 162,
   "metadata": {},
   "outputs": [
    {
     "name": "stdout",
     "output_type": "stream",
     "text": [
      "[[1 0]\n",
      " [0 1]]\n",
      "[[1 0 0 0]\n",
      " [0 1 0 0]\n",
      " [0 0 1 0]\n",
      " [0 0 0 1]]\n",
      "[[ 1  0]\n",
      " [ 0 -1]]\n",
      "[[ 1  0  0  0]\n",
      " [ 0 -1  0  0]\n",
      " [ 0  0 -1  0]\n",
      " [ 0  0  0  1]]\n",
      "number of stabilizers is 2\n"
     ]
    }
   ],
   "source": [
    "e = m.cos(m.pi/4) + i*m.sin(m.pi/4)\n",
    "scalar = (1/m.sqrt(2))\n",
    "\n",
    "psi = scalar * np.array([[1], [0], [0], [i/2]])\n",
    "\n",
    "x = Stab(psi)\n",
    "print('number of stabilizers is', x)"
   ]
  },
  {
   "cell_type": "code",
   "execution_count": null,
   "metadata": {},
   "outputs": [],
   "source": []
  }
 ],
 "metadata": {
  "kernelspec": {
   "display_name": "Python 3",
   "language": "python",
   "name": "python3"
  },
  "language_info": {
   "codemirror_mode": {
    "name": "ipython",
    "version": 3
   },
   "file_extension": ".py",
   "mimetype": "text/x-python",
   "name": "python",
   "nbconvert_exporter": "python",
   "pygments_lexer": "ipython3",
   "version": "3.7.4"
  }
 },
 "nbformat": 4,
 "nbformat_minor": 2
}
